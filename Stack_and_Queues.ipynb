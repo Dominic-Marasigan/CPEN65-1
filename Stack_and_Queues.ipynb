{
  "nbformat": 4,
  "nbformat_minor": 0,
  "metadata": {
    "colab": {
      "provenance": [],
      "authorship_tag": "ABX9TyOoLOXLEtlImI9IdOSEKKR/",
      "include_colab_link": true
    },
    "kernelspec": {
      "name": "python3",
      "display_name": "Python 3"
    },
    "language_info": {
      "name": "python"
    }
  },
  "cells": [
    {
      "cell_type": "markdown",
      "metadata": {
        "id": "view-in-github",
        "colab_type": "text"
      },
      "source": [
        "<a href=\"https://colab.research.google.com/github/Dominic-Marasigan/CPEN65-1/blob/main/Stack_and_Queues.ipynb\" target=\"_parent\"><img src=\"https://colab.research.google.com/assets/colab-badge.svg\" alt=\"Open In Colab\"/></a>"
      ]
    },
    {
      "cell_type": "code",
      "execution_count": 11,
      "metadata": {
        "colab": {
          "base_uri": "https://localhost:8080/"
        },
        "id": "jbwmJqRBlBV6",
        "outputId": "bf27d7bb-6b0b-4225-fc3f-574a3c672c45"
      },
      "outputs": [
        {
          "output_type": "stream",
          "name": "stdout",
          "text": [
            "['A', 'B', 'C']\n",
            "['A']\n"
          ]
        }
      ],
      "source": [
        "class Stack:\n",
        "  def __init__(self):\n",
        "    self.stack = []  ## stack implementation using OOP concepts\n",
        "\n",
        "  def push(self, dataval):\n",
        "    if dataval not in self.stack:\n",
        "      return self.stack.append(dataval)\n",
        "    \n",
        "    else:\n",
        "      return False\n",
        "\n",
        "  def pop(self):\n",
        "    if len(self.stack) <= 0:\n",
        "      return(\"No element in the stack\")\n",
        "\n",
        "    else:\n",
        "      return self.stack.pop()\n",
        "\n",
        "Astack = Stack()\n",
        "Astack.push(\"A\")\n",
        "Astack.push(\"B\")\n",
        "Astack.push(\"C\")\n",
        "print(Astack.stack)\n",
        "Astack.pop()\n",
        "Astack.pop()\n",
        "print(Astack.stack)"
      ]
    },
    {
      "cell_type": "code",
      "source": [
        "#Application\n",
        "\n",
        "#Implement the above program by Queues Data Structure (enqueue and dequeue/FIFO Principle)"
      ],
      "metadata": {
        "id": "ja3MtTlHlUuj"
      },
      "execution_count": null,
      "outputs": []
    },
    {
      "cell_type": "code",
      "source": [
        "class Queue:\n",
        "  def __init__(self):\n",
        "    self.queue = []\n",
        "\n",
        "  def enqueue(self, dataval):\n",
        "    self.queue.append(dataval)\n",
        "    if dataval not in self.queue:\n",
        "      return self.queue.append(dataval)\n",
        "    \n",
        "    else:\n",
        "      return False \n",
        "\n",
        "  def dequeue(self):\n",
        "    if len(self.queue) == 0:\n",
        "      return \"No elements in the queue\"\n",
        "    return self.queue.pop(0)\n",
        "\n",
        "Aqueue = Queue()\n",
        "Aqueue.enqueue(\"A\")\n",
        "Aqueue.enqueue(\"B\")\n",
        "Aqueue.enqueue(\"C\")\n",
        "Aqueue.enqueue(\"D\")\n",
        "Aqueue.enqueue(\"E\")\n",
        "Aqueue.enqueue(\"F\")\n",
        "print(Aqueue.queue)\n",
        "Aqueue.dequeue()\n",
        "Aqueue.dequeue()\n",
        "Aqueue.dequeue()\n",
        "print(Aqueue.queue)"
      ],
      "metadata": {
        "colab": {
          "base_uri": "https://localhost:8080/"
        },
        "id": "5PPsRfYCm1MD",
        "outputId": "8657e25d-6545-4057-e2d9-10fd85917246"
      },
      "execution_count": 12,
      "outputs": [
        {
          "output_type": "stream",
          "name": "stdout",
          "text": [
            "['A', 'B', 'C', 'D', 'E', 'F']\n",
            "['D', 'E', 'F']\n"
          ]
        }
      ]
    }
  ]
}