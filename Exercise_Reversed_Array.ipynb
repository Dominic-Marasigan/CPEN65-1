{
  "nbformat": 4,
  "nbformat_minor": 0,
  "metadata": {
    "colab": {
      "provenance": [],
      "collapsed_sections": [],
      "authorship_tag": "ABX9TyMSmZCJWydNYs4+KZBHWj9n",
      "include_colab_link": true
    },
    "kernelspec": {
      "name": "python3",
      "display_name": "Python 3"
    },
    "language_info": {
      "name": "python"
    }
  },
  "cells": [
    {
      "cell_type": "markdown",
      "metadata": {
        "id": "view-in-github",
        "colab_type": "text"
      },
      "source": [
        "<a href=\"https://colab.research.google.com/github/Dominic-Marasigan/CPEN65-1/blob/main/Exercise_Reversed_Array.ipynb\" target=\"_parent\"><img src=\"https://colab.research.google.com/assets/colab-badge.svg\" alt=\"Open In Colab\"/></a>"
      ]
    },
    {
      "cell_type": "code",
      "source": [
        "# Create a python program that use array\n",
        "# Insert each character of your full name and displays each character of your full name in reverse order\n",
        "\n",
        "array = []\n",
        "user_input = (input(\"Enter each letter of your name separated by a space: \"))\n",
        "array = user_input.split()\n",
        "\n",
        "print(\"\\nOriginal Array is:\", array)\n",
        "array.reverse()\n",
        "print(\"\\nReversed Array is:\",array)"
      ],
      "metadata": {
        "colab": {
          "base_uri": "https://localhost:8080/"
        },
        "id": "IYNEJ7_i7BuT",
        "outputId": "46bc4f3f-e320-4829-c142-1a12b3321d70"
      },
      "execution_count": 6,
      "outputs": [
        {
          "output_type": "stream",
          "name": "stdout",
          "text": [
            "Enter each letter of your name separated by a space: D O M I N I C M A R A S I G A N\n",
            "\n",
            "Original Array is: ['D', 'O', 'M', 'I', 'N', 'I', 'C', 'M', 'A', 'R', 'A', 'S', 'I', 'G', 'A', 'N']\n",
            "\n",
            "Reversed Array is: ['N', 'A', 'G', 'I', 'S', 'A', 'R', 'A', 'M', 'C', 'I', 'N', 'I', 'M', 'O', 'D']\n"
          ]
        }
      ]
    }
  ]
}