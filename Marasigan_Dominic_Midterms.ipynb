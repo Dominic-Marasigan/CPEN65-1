{
  "nbformat": 4,
  "nbformat_minor": 0,
  "metadata": {
    "colab": {
      "provenance": [],
      "authorship_tag": "ABX9TyPOCV+VSuIoKNaIRsMlqkH6",
      "include_colab_link": true
    },
    "kernelspec": {
      "name": "python3",
      "display_name": "Python 3"
    },
    "language_info": {
      "name": "python"
    }
  },
  "cells": [
    {
      "cell_type": "markdown",
      "metadata": {
        "id": "view-in-github",
        "colab_type": "text"
      },
      "source": [
        "<a href=\"https://colab.research.google.com/github/Dominic-Marasigan/CPEN65-1/blob/main/Marasigan_Dominic_Midterms.ipynb\" target=\"_parent\"><img src=\"https://colab.research.google.com/assets/colab-badge.svg\" alt=\"Open In Colab\"/></a>"
      ]
    },
    {
      "cell_type": "code",
      "execution_count": 20,
      "metadata": {
        "colab": {
          "base_uri": "https://localhost:8080/"
        },
        "id": "Ma5MnJBsYRDl",
        "outputId": "3ce821cf-d2b0-450e-813b-91bb71e4a14d"
      },
      "outputs": [
        {
          "output_type": "stream",
          "name": "stdout",
          "text": [
            "array('i', [1, 2, 3, 4, 5, 6, 7, 8, 9, 10])\n",
            "\n",
            "Access items individually: \n",
            "1\n",
            "2\n",
            "3\n",
            "4\n",
            "5\n",
            "6\n",
            "7\n",
            "8\n",
            "9\n",
            "10\n",
            "\n",
            "The sum of all elements in the array is 55\n"
          ]
        }
      ],
      "source": [
        "# Code no.1\n",
        "import array as arr\n",
        "arr = arr.array('i',[1, 2, 3, 4, 5, 6, 7, 8, 9, 10])\n",
        "print(arr)\n",
        "print(\"\\nAccess items individually: \")\n",
        "print(arr[0])\n",
        "print(arr[1])\n",
        "print(arr[2])\n",
        "print(arr[3])\n",
        "print(arr[4])\n",
        "print(arr[5])\n",
        "print(arr[6])\n",
        "print(arr[7])\n",
        "print(arr[8])\n",
        "print(arr[9])\n",
        "\n",
        "total_sum = sum(arr)\n",
        "print(\"\\nThe sum of all elements in the array is\", total_sum)"
      ]
    },
    {
      "cell_type": "code",
      "source": [
        "# Code no.2\n",
        "import array as arr\n",
        "numbers = arr.array('i',[1, 2, 3, 4, 5, 6, 7, 8, 9, 10])\n",
        "print(\"Original: \", numbers)\n",
        "\n",
        "numbers.append(11)\n",
        "print(\"New: \", numbers)"
      ],
      "metadata": {
        "colab": {
          "base_uri": "https://localhost:8080/"
        },
        "id": "11WzXVKsYYlP",
        "outputId": "bb4245dc-38c0-4002-83d6-5a2a086e9874"
      },
      "execution_count": 21,
      "outputs": [
        {
          "output_type": "stream",
          "name": "stdout",
          "text": [
            "Original:  array('i', [1, 2, 3, 4, 5, 6, 7, 8, 9, 10])\n",
            "New:  array('i', [1, 2, 3, 4, 5, 6, 7, 8, 9, 10, 11])\n"
          ]
        }
      ]
    },
    {
      "cell_type": "code",
      "source": [
        "# Code no.3\n",
        "import array as arr\n",
        "numbers = arr.array('i',[1, 2, 3, 4, 5, 6, 7, 8, 9, 10])\n",
        "print(\"Original:\", numbers)\n",
        "x = numbers.insert(9,15)\n",
        "print(\"New:\", numbers)"
      ],
      "metadata": {
        "colab": {
          "base_uri": "https://localhost:8080/"
        },
        "id": "zTwU8iYBYZ-_",
        "outputId": "c24f3b24-963a-4aee-b1f9-528274ba352f"
      },
      "execution_count": 22,
      "outputs": [
        {
          "output_type": "stream",
          "name": "stdout",
          "text": [
            "Original: array('i', [1, 2, 3, 4, 5, 6, 7, 8, 9, 10])\n",
            "New: array('i', [1, 2, 3, 4, 5, 6, 7, 8, 9, 15, 10])\n"
          ]
        }
      ]
    },
    {
      "cell_type": "code",
      "source": [
        "# Code no.4\n",
        "import array as arr\n",
        "numbers = arr.array('i',[1, 2, 3, 4, 5])\n",
        "print(\"Original array: \"+str(numbers))\n",
        "numbers.reverse()\n",
        "print(\"New array in reversed order of the items:\")\n",
        "print(str(numbers))"
      ],
      "metadata": {
        "colab": {
          "base_uri": "https://localhost:8080/"
        },
        "id": "NFcR2QSUY5tg",
        "outputId": "125498c8-7f58-4846-ac0a-96d4e7d0dc9e"
      },
      "execution_count": 23,
      "outputs": [
        {
          "output_type": "stream",
          "name": "stdout",
          "text": [
            "Original array: array('i', [1, 2, 3, 4, 5])\n",
            "New array in reversed order of the items:\n",
            "array('i', [5, 4, 3, 2, 1])\n"
          ]
        }
      ]
    },
    {
      "cell_type": "code",
      "source": [
        "# Code no.5\n",
        "import array as arr\n",
        "A = arr.array('i',[1, 2, 3, 3, 4]) #array size 5\n",
        "arr = []\n",
        "\n",
        "for i in A:\n",
        "  if i not in arr:\n",
        "    arr.append(i)\n",
        "  else:\n",
        "    print(\"The repeated element is:\", i)"
      ],
      "metadata": {
        "colab": {
          "base_uri": "https://localhost:8080/"
        },
        "id": "6QUssw8Kbwjp",
        "outputId": "63e06122-edc7-41a6-f853-56d1c8796e6d"
      },
      "execution_count": 24,
      "outputs": [
        {
          "output_type": "stream",
          "name": "stdout",
          "text": [
            "The repeated element is: 3\n"
          ]
        }
      ]
    }
  ]
}