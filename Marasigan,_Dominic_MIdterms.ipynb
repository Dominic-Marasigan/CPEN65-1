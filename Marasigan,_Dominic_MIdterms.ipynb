{
  "nbformat": 4,
  "nbformat_minor": 0,
  "metadata": {
    "colab": {
      "provenance": [],
      "authorship_tag": "ABX9TyPb1Y3RDZ5dPgUCiHQVYv94",
      "include_colab_link": true
    },
    "kernelspec": {
      "name": "python3",
      "display_name": "Python 3"
    },
    "language_info": {
      "name": "python"
    }
  },
  "cells": [
    {
      "cell_type": "markdown",
      "metadata": {
        "id": "view-in-github",
        "colab_type": "text"
      },
      "source": [
        "<a href=\"https://colab.research.google.com/github/Dominic-Marasigan/CPEN65-1/blob/main/Marasigan%2C_Dominic_MIdterms.ipynb\" target=\"_parent\"><img src=\"https://colab.research.google.com/assets/colab-badge.svg\" alt=\"Open In Colab\"/></a>"
      ]
    },
    {
      "cell_type": "code",
      "execution_count": 20,
      "metadata": {
        "colab": {
          "base_uri": "https://localhost:8080/"
        },
        "id": "yMVujqWkGlJc",
        "outputId": "e467f6c3-fbb1-405d-a1e3-7a6d31b28cb8"
      },
      "outputs": [
        {
          "output_type": "stream",
          "name": "stdout",
          "text": [
            "array('i', [2, 4, 5, 6, 7, 9, 10, 12, 14, 15])\n",
            "\n",
            "Access items individually: \n",
            "2\n",
            "4\n",
            "5\n",
            "6\n",
            "7\n",
            "9\n",
            "10\n",
            "12\n",
            "14\n",
            "15\n",
            "\n",
            "The sum of all elements in the array is 84\n"
          ]
        }
      ],
      "source": [
        "# Code no.1\n",
        "import array as arr\n",
        "arr = arr.array('i',[2,4,5,6,7,9,10,12,14,15])\n",
        "print(arr)\n",
        "print(\"\\nAccess items individually: \")\n",
        "print(arr[0])\n",
        "print(arr[1])\n",
        "print(arr[2])\n",
        "print(arr[3])\n",
        "print(arr[4])\n",
        "print(arr[5])\n",
        "print(arr[6])\n",
        "print(arr[7])\n",
        "print(arr[8])\n",
        "print(arr[9])\n",
        "\n",
        "total_sum = sum(arr)\n",
        "print(\"\\nThe sum of all elements in the array is\", total_sum)"
      ]
    },
    {
      "cell_type": "code",
      "source": [
        "# Code no.2\n",
        "import array as arr\n",
        "numbers = arr.array('i',[1, 2, 3, 4, 5, 6, 7, 8, 9, 10])\n",
        "print(\"Original: \", numbers)\n",
        "\n",
        "numbers.append(11)\n",
        "print(\"New: \", numbers)"
      ],
      "metadata": {
        "colab": {
          "base_uri": "https://localhost:8080/"
        },
        "id": "FBmfGGNRJ43v",
        "outputId": "ecc61d27-6db0-4d2b-d9df-2791d0bcc37c"
      },
      "execution_count": 25,
      "outputs": [
        {
          "output_type": "stream",
          "name": "stdout",
          "text": [
            "Original:  array('i', [1, 2, 3, 4, 5, 6, 7, 8, 9, 10])\n",
            "New :  array('i', [1, 2, 3, 4, 5, 6, 7, 8, 9, 10, 11])\n"
          ]
        }
      ]
    },
    {
      "cell_type": "code",
      "source": [
        "# Code no.3\n",
        "import array as arr\n",
        "numbers = arr.array('i',[1, 2, 3, 4, 5, 6, 7, 8, 9, 10])\n",
        "print(\"Original:\", numbers)\n",
        "x = numbers.insert(1,16)\n",
        "print(\"New:\", numbers)"
      ],
      "metadata": {
        "colab": {
          "base_uri": "https://localhost:8080/"
        },
        "id": "0zudW5RlKAh1",
        "outputId": "33ef8764-cd9a-445d-cf00-74b45a46ea36"
      },
      "execution_count": 22,
      "outputs": [
        {
          "output_type": "stream",
          "name": "stdout",
          "text": [
            "Original: array('i', [1, 2, 3, 4, 5, 6, 7, 8, 9, 10])\n",
            "New: array('i', [1, 16, 2, 3, 4, 5, 6, 7, 8, 9, 10])\n"
          ]
        }
      ]
    },
    {
      "cell_type": "code",
      "source": [
        "# Code no. 4\n",
        "import array as arr\n",
        "numbers = arr.array('i',[5, 4, 3, 2, 1])\n",
        "print(\"Original array: \"+str(numbers))\n",
        "numbers.reverse()\n",
        "print(\"New array in reversed order of the items:\")\n",
        "print(str(numbers))"
      ],
      "metadata": {
        "colab": {
          "base_uri": "https://localhost:8080/"
        },
        "id": "zjHHhuELKWVV",
        "outputId": "05cf28aa-2b6b-4b97-cd22-b8536cf49441"
      },
      "execution_count": 23,
      "outputs": [
        {
          "output_type": "stream",
          "name": "stdout",
          "text": [
            "Original array: array('i', [5, 4, 3, 2, 1])\n",
            "New array in reversed order of the items:\n",
            "array('i', [1, 2, 3, 4, 5])\n"
          ]
        }
      ]
    },
    {
      "cell_type": "code",
      "source": [
        "# Code no. 5\n",
        "import array as arr\n",
        "numbers = arr.array('i',[5, 4, 3, 2, 1])\n",
        "print(\"Length of the array is:\", len(numbers))"
      ],
      "metadata": {
        "colab": {
          "base_uri": "https://localhost:8080/"
        },
        "id": "8sk8_UVEKbP2",
        "outputId": "451b93f2-ab02-413d-9f6e-c99adc8b23d0"
      },
      "execution_count": 24,
      "outputs": [
        {
          "output_type": "stream",
          "name": "stdout",
          "text": [
            "Length of the array is: 5\n"
          ]
        }
      ]
    }
  ]
}